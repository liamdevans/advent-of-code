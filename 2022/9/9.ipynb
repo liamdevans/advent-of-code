{
 "cells": [
  {
   "cell_type": "code",
   "execution_count": 11,
   "metadata": {},
   "outputs": [],
   "source": [
    "with open(\"input.txt\") as file:\n",
    "    commands = [line.strip().split() for line in file]\n",
    "    commands = [[command[0], int(command[1])] for command in commands]"
   ]
  },
  {
   "cell_type": "code",
   "execution_count": 77,
   "metadata": {},
   "outputs": [],
   "source": [
    "def move_head(command, current_pos, tails):\n",
    "    global tail_positions\n",
    "    x = current_pos[0]\n",
    "    y = current_pos[1]\n",
    "    \n",
    "    n_moves = command[1]\n",
    "    direction = command[0]\n",
    "    \n",
    "    for i in range(n_moves):\n",
    "        x, y = make_single_move(direction, x, y)\n",
    "        head_pos = [x, y]\n",
    "        head_positions.append(head_pos)\n",
    "        \n",
    "        for i in range(9):\n",
    "            tails[i] = move_tail(head_pos, tails[i])\n",
    "            head_pos = tails[i]\n",
    "        \n",
    "        tail_positions.append(tails[8].copy())\n",
    "        \n",
    "    return [x, y], tails\n",
    "        \n",
    "def make_single_move(direction: str, x: int, y: int):\n",
    "    if direction == \"L\":\n",
    "        return [x - 1, y]\n",
    "    if direction == \"R\":\n",
    "        return [x + 1, y]\n",
    "    if direction == \"U\":\n",
    "        return [x, y + 1]\n",
    "    if direction == \"D\":\n",
    "        return [x, y - 1]\n",
    "    \n",
    "def is_touching(head_pos, tail_pos):\n",
    "    return abs(head_pos[0] - tail_pos[0]) <= 1 and abs(head_pos[1] - tail_pos[1]) <= 1\n",
    "\n",
    "def move_tail(head_pos, tail_pos):\n",
    "    if is_touching(head_pos, tail_pos):\n",
    "        return tail_pos\n",
    "    same_x = head_pos[0] == tail_pos[0]\n",
    "    same_y = head_pos[1] == tail_pos[1]\n",
    "    \n",
    "    # move horizontal\n",
    "    if same_y:\n",
    "        if head_pos[0] > tail_pos[0]:\n",
    "            tail_pos[0] += 1\n",
    "        elif head_pos[0] < tail_pos[0]:\n",
    "            tail_pos[0] -= 1\n",
    "    # move vertical\n",
    "    elif same_x:\n",
    "        if head_pos[1] > tail_pos[1]:\n",
    "            tail_pos[1] += 1\n",
    "        elif head_pos[1] < tail_pos[1]:\n",
    "            tail_pos[1] -= 1\n",
    "    else:\n",
    "        if head_pos[0] > tail_pos[0] and head_pos[1] > tail_pos[1]:\n",
    "            tail_pos[0] += 1\n",
    "            tail_pos[1] += 1\n",
    "        elif head_pos[0] > tail_pos[0] and head_pos[1] < tail_pos[1]:\n",
    "            tail_pos[0] += 1\n",
    "            tail_pos[1] -= 1\n",
    "        elif head_pos[0] < tail_pos[0] and head_pos[1] < tail_pos[1]:\n",
    "            tail_pos[0] -= 1\n",
    "            tail_pos[1] -= 1\n",
    "        elif head_pos[0] < tail_pos[0] and head_pos[1] > tail_pos[1]:\n",
    "            tail_pos[0] -= 1\n",
    "            tail_pos[1] += 1\n",
    "    return tail_pos"
   ]
  },
  {
   "cell_type": "code",
   "execution_count": 78,
   "metadata": {},
   "outputs": [],
   "source": [
    "head_pos = [0, 0]\n",
    "head_positions = [head_pos]\n",
    "tail_pos = [0, 0]\n",
    "tails = {i:[0, 0] for i in range(9)}\n",
    "tail_positions = [tail_pos]\n",
    "for command in commands:\n",
    "    head_pos, tails = move_head(command, head_pos, tails)"
   ]
  },
  {
   "cell_type": "code",
   "execution_count": 81,
   "metadata": {},
   "outputs": [],
   "source": [
    "unique_tail_positions = [list(tp) for tp in set(tuple(tp) for tp in tail_positions)]"
   ]
  },
  {
   "cell_type": "code",
   "execution_count": 82,
   "metadata": {},
   "outputs": [
    {
     "name": "stdout",
     "output_type": "stream",
     "text": [
      "Number of tail positions: 2522\n"
     ]
    }
   ],
   "source": [
    "print(\"Number of tail positions:\", len(unique_tail_positions))"
   ]
  },
  {
   "cell_type": "code",
   "execution_count": null,
   "metadata": {},
   "outputs": [],
   "source": []
  }
 ],
 "metadata": {
  "kernelspec": {
   "display_name": "Python 3 (ipykernel)",
   "language": "python",
   "name": "python3"
  },
  "language_info": {
   "codemirror_mode": {
    "name": "ipython",
    "version": 3
   },
   "file_extension": ".py",
   "mimetype": "text/x-python",
   "name": "python",
   "nbconvert_exporter": "python",
   "pygments_lexer": "ipython3",
   "version": "3.8.2"
  }
 },
 "nbformat": 4,
 "nbformat_minor": 4
}
