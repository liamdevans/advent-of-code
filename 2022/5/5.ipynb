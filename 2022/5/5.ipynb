{
 "cells": [
  {
   "cell_type": "code",
   "execution_count": 159,
   "metadata": {},
   "outputs": [],
   "source": [
    "import re"
   ]
  },
  {
   "cell_type": "code",
   "execution_count": 189,
   "metadata": {},
   "outputs": [],
   "source": [
    "with open(\"input.txt\") as file:\n",
    "    lines = [line.strip() for line in file.readlines()]\n",
    "    # crate_lines = lines[:10]\n",
    "    steps = lines[10:]"
   ]
  },
  {
   "cell_type": "code",
   "execution_count": 190,
   "metadata": {},
   "outputs": [],
   "source": [
    "def pad(line: list, length: int=9):\n",
    "    line += [' '] * (length - len(line))\n",
    "    return line\n",
    "\n",
    "def transpose(lines):\n",
    "    return list(map(list, zip(*lines)))"
   ]
  },
  {
   "cell_type": "code",
   "execution_count": 191,
   "metadata": {},
   "outputs": [],
   "source": [
    "crates = [[*line[1::4]] for line in lines[:8]]\n",
    "crates = [pad(crate) for crate in crates]\n",
    "crates_h = transpose(crates)\n",
    "crates_h = [crate[::-1] for crate in crates_h]\n",
    "crates_h = [[c for c in crate if c != ' '] for crate in crates_h]\n",
    "steps = [[int(v) for v in re.findall('[0-9]+', step)] for step in steps]"
   ]
  },
  {
   "cell_type": "code",
   "execution_count": 193,
   "metadata": {},
   "outputs": [],
   "source": [
    "def perform_movement(crates_h, step: list):\n",
    "    num_items, from_stack, to_stack = step\n",
    "    for i in range(num_items):\n",
    "        crates_h[to_stack - 1].append(crates_h[from_stack - 1].pop())\n",
    "    return crates_h\n",
    "\n",
    "def perform_movement_9001(crates_h, step: list):\n",
    "    num_items, from_stack, to_stack = step\n",
    "    \n",
    "    crates_h[to_stack - 1].extend(crates_h[from_stack - 1][-num_items:])\n",
    "    crates_h[from_stack - 1] = crates_h[from_stack - 1][:-num_items]\n",
    "    return crates_h\n",
    "\n",
    "def get_top_crates(crates):\n",
    "    result = []\n",
    "    for c in crates:\n",
    "        try:\n",
    "            result.append(c[-1])\n",
    "        except IndexError:\n",
    "            result.append(\"\")\n",
    "    return \"\".join(result)"
   ]
  },
  {
   "cell_type": "markdown",
   "metadata": {},
   "source": [
    "part 1"
   ]
  },
  {
   "cell_type": "code",
   "execution_count": null,
   "metadata": {},
   "outputs": [],
   "source": [
    "for step in steps:\n",
    "    crates_h = perform_movement(crates_h, step)\n",
    "get_top_crates(crates_h)"
   ]
  },
  {
   "cell_type": "code",
   "execution_count": 194,
   "metadata": {},
   "outputs": [
    {
     "data": {
      "text/plain": [
       "'NGCMPJLHV'"
      ]
     },
     "execution_count": 194,
     "metadata": {},
     "output_type": "execute_result"
    }
   ],
   "source": [
    "for step in steps:\n",
    "    crates_h = perform_movement_9001(crates_h, step)\n",
    "    \n",
    "get_top_crates(crates_h)"
   ]
  },
  {
   "cell_type": "code",
   "execution_count": null,
   "metadata": {},
   "outputs": [],
   "source": []
  }
 ],
 "metadata": {
  "kernelspec": {
   "display_name": "Python 3 (ipykernel)",
   "language": "python",
   "name": "python3"
  },
  "language_info": {
   "codemirror_mode": {
    "name": "ipython",
    "version": 3
   },
   "file_extension": ".py",
   "mimetype": "text/x-python",
   "name": "python",
   "nbconvert_exporter": "python",
   "pygments_lexer": "ipython3",
   "version": "3.8.2"
  }
 },
 "nbformat": 4,
 "nbformat_minor": 4
}
