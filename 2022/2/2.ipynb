{
 "cells": [
  {
   "cell_type": "code",
   "execution_count": 34,
   "metadata": {},
   "outputs": [],
   "source": [
    "from pprint import pprint\n",
    "from collections import OrderedDict"
   ]
  },
  {
   "cell_type": "code",
   "execution_count": 14,
   "metadata": {},
   "outputs": [],
   "source": [
    "with open(\"input.txt\") as file:\n",
    "    lines = [line.strip(\"\\n\") for line in file]"
   ]
  },
  {
   "cell_type": "code",
   "execution_count": 16,
   "metadata": {},
   "outputs": [
    {
     "name": "stdout",
     "output_type": "stream",
     "text": [
      "['B Z', 'B X', 'C Y', 'B Y', 'B Y', 'A X', 'A X', 'B Z', 'A Z', 'B Z']\n"
     ]
    }
   ],
   "source": [
    "pprint(lines[:10])"
   ]
  },
  {
   "cell_type": "markdown",
   "metadata": {},
   "source": [
    "A - Rock, B - Paper, C - Scissors  \n",
    "X - Rock, Y - Paper, Z - Scissors  \n",
    "**Points**   \n",
    "1 - Rock, 2 - Paper, 3 - Scissors  \n",
    "0 - Loss, 3 - Draw, 6 - Win"
   ]
  },
  {
   "cell_type": "code",
   "execution_count": 30,
   "metadata": {},
   "outputs": [],
   "source": [
    "choice_points = {\"X\": 1, \"Y\": 2, \"Z\": 3}\n",
    "winning_comb = {\"X\": \"C\", \"Y\": \"A\", \"Z\": \"B\"}\n",
    "drawing_comb = {\"X\": \"A\", \"Y\": \"B\", \"Z\": \"C\"}\n",
    "\n",
    "def calc_points(round: str) -> int:\n",
    "    opp = round[0]\n",
    "    you = round[-1]\n",
    "    points = choice_points[you]\n",
    "    if opp == winning_comb[you]:\n",
    "        points += 6\n",
    "    elif opp == drawing_comb[you]:\n",
    "        points += 3\n",
    "    return points    "
   ]
  },
  {
   "cell_type": "code",
   "execution_count": 31,
   "metadata": {},
   "outputs": [
    {
     "name": "stdout",
     "output_type": "stream",
     "text": [
      "11666\n"
     ]
    }
   ],
   "source": [
    "score = sum(list(map(calc_points, lines)))\n",
    "print(score)"
   ]
  },
  {
   "cell_type": "markdown",
   "metadata": {},
   "source": [
    "## part2"
   ]
  },
  {
   "cell_type": "markdown",
   "metadata": {},
   "source": [
    "x - lose, y - draw, z - win"
   ]
  },
  {
   "cell_type": "code",
   "execution_count": 44,
   "metadata": {},
   "outputs": [],
   "source": [
    "result_points = {\"X\": 0, \"Y\": 3, \"Z\": 6}\n",
    "choice_points = {\"X\": 1, \"Y\": 2, \"Z\": 3}\n",
    "\n",
    "opp_outcomes = {\"A\": [\"Z\", \"X\", \"Y\"], \"B\": [\"X\", \"Y\", \"Z\"], \"C\": [\"Y\", \"Z\", \"X\"]}\n",
    "\n",
    "def calc_points(round: str) -> int:\n",
    "    opp = round[0]\n",
    "    result = round[-1]\n",
    "    points = result_points[result]\n",
    "    idx = list(choice_points.keys()).index(result)\n",
    "    points += choice_points[opp_outcomes[opp][idx]]\n",
    "    return points"
   ]
  },
  {
   "cell_type": "code",
   "execution_count": 45,
   "metadata": {},
   "outputs": [
    {
     "name": "stdout",
     "output_type": "stream",
     "text": [
      "12767\n"
     ]
    }
   ],
   "source": [
    "score = sum(list(map(calc_points, lines)))\n",
    "print(score)"
   ]
  },
  {
   "cell_type": "code",
   "execution_count": null,
   "metadata": {},
   "outputs": [],
   "source": []
  }
 ],
 "metadata": {
  "kernelspec": {
   "display_name": "Python 3 (ipykernel)",
   "language": "python",
   "name": "python3"
  },
  "language_info": {
   "codemirror_mode": {
    "name": "ipython",
    "version": 3
   },
   "file_extension": ".py",
   "mimetype": "text/x-python",
   "name": "python",
   "nbconvert_exporter": "python",
   "pygments_lexer": "ipython3",
   "version": "3.8.2"
  }
 },
 "nbformat": 4,
 "nbformat_minor": 4
}
