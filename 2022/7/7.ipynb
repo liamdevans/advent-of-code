{
 "cells": [
  {
   "cell_type": "code",
   "execution_count": 2,
   "metadata": {},
   "outputs": [],
   "source": [
    "class Directory():\n",
    "    file_system = FileSystem().fs\n",
    "    \n",
    "    def __init__(self, name):\n",
    "        self.name = name\n",
    "        \n",
    "    @classmethod\n",
    "    def is_dir(cls, line: str):\n",
    "        if line.startswith('dir'):\n",
    "            return cls(line[4:])\n",
    "        \n",
    "    def add_file(self, file):\n",
    "        file = file.split()\n",
    "        file_name = file[1]\n",
    "        file_size = file[0]\n",
    "        file_system[]\n",
    "    "
   ]
  },
  {
   "cell_type": "code",
   "execution_count": 7,
   "metadata": {},
   "outputs": [],
   "source": [
    "class FileSystem():\n",
    "    fs = {}\n",
    "    "
   ]
  },
  {
   "cell_type": "code",
   "execution_count": 3,
   "metadata": {},
   "outputs": [],
   "source": [
    "def is_command(line:str) -> bool:\n",
    "    return line.startswith('$')\n",
    "\n",
    "def change_dir(line: list, cwd: str, current_level: int, file_structure: dict):\n",
    "    if line[2] != \"..\":\n",
    "        cwd = line[2]\n",
    "        current_level += 1\n",
    "    else:\n",
    "        cwd = \n",
    "        current_level -= 1\n",
    "    "
   ]
  },
  {
   "cell_type": "code",
   "execution_count": 6,
   "metadata": {},
   "outputs": [
    {
     "data": {
      "text/plain": [
       "'ngfllcq.jzd'"
      ]
     },
     "execution_count": 6,
     "metadata": {},
     "output_type": "execute_result"
    }
   ],
   "source": [
    "'254359 ngfllcq.jzd'.split()[1]"
   ]
  },
  {
   "cell_type": "code",
   "execution_count": 13,
   "metadata": {},
   "outputs": [
    {
     "data": {
      "text/plain": [
       "['$ cd /',\n",
       " '$ ls',\n",
       " 'dir a',\n",
       " '14848514 b.txt',\n",
       " '8504156 c.dat',\n",
       " 'dir d',\n",
       " '$ cd a',\n",
       " '$ ls',\n",
       " 'dir e',\n",
       " '29116 f',\n",
       " '2557 g',\n",
       " '62596 h.lst',\n",
       " '$ cd e',\n",
       " '$ ls',\n",
       " '584 i',\n",
       " '$ cd ..',\n",
       " '$ cd ..',\n",
       " '$ cd d',\n",
       " '$ ls',\n",
       " '4060174 j',\n",
       " '8033020 d.log',\n",
       " '5626152 d.ext',\n",
       " '7214296 k']"
      ]
     },
     "execution_count": 13,
     "metadata": {},
     "output_type": "execute_result"
    }
   ],
   "source": [
    "with open(\"test_inupt.txt\") as test:\n",
    "    test_inupt = [line.strip() for line in test.readlines()]\n",
    "test_inupt"
   ]
  },
  {
   "cell_type": "code",
   "execution_count": 14,
   "metadata": {},
   "outputs": [],
   "source": [
    "from collections import defaultdict"
   ]
  },
  {
   "cell_type": "code",
   "execution_count": 16,
   "metadata": {},
   "outputs": [],
   "source": [
    "path = []\n",
    "folders = defaultdict(int)\n",
    "\n",
    "with open('input.txt') as file:\n",
    "    for line in file:\n",
    "        if line[:7] == '$ cd ..':\n",
    "            path.pop()\n",
    "        elif line[:4] == '$ cd':\n",
    "            path.append(line.strip()[5:])\n",
    "        elif line[0].isdigit():\n",
    "            size, _ = line.split()\n",
    "            for i in range(len(path)):\n",
    "                folders['/'.join(path[:i + 1])] += int(size)"
   ]
  },
  {
   "cell_type": "code",
   "execution_count": 23,
   "metadata": {
    "collapsed": true,
    "jupyter": {
     "outputs_hidden": true
    }
   },
   "outputs": [
    {
     "data": {
      "text/plain": [
       "defaultdict(int,\n",
       "            {'/': 40208860,\n",
       "             '//cmcrzdt': 26776082,\n",
       "             '//cmcrzdt/chqllfw': 191427,\n",
       "             '//cmcrzdt/lnsgfnbr': 9927231,\n",
       "             '//cmcrzdt/lnsgfnbr/jtzw': 349574,\n",
       "             '//cmcrzdt/lnsgfnbr/jtzw/nfz': 349574,\n",
       "             '//cmcrzdt/lnsgfnbr/ngfllcq': 318711,\n",
       "             '//cmcrzdt/lnsgfnbr/sdm': 8567016,\n",
       "             '//cmcrzdt/lnsgfnbr/sdm/dhwm': 3275709,\n",
       "             '//cmcrzdt/lnsgfnbr/sdm/dhwm/clr': 657921,\n",
       "             '//cmcrzdt/lnsgfnbr/sdm/dhwm/clr/lnbc': 62635,\n",
       "             '//cmcrzdt/lnsgfnbr/sdm/dhwm/clr/zgmgztcd': 149111,\n",
       "             '//cmcrzdt/lnsgfnbr/sdm/dhwm/lhv': 263161,\n",
       "             '//cmcrzdt/lnsgfnbr/sdm/dhwm/lhv/phzfwl': 263161,\n",
       "             '//cmcrzdt/lnsgfnbr/sdm/dhwm/lhv/phzfwl/gmzcjzm': 263161,\n",
       "             '//cmcrzdt/lnsgfnbr/sdm/dhwm/ncvmgn': 415100,\n",
       "             '//cmcrzdt/lnsgfnbr/sdm/dhwm/ncvmgn/stm': 147988,\n",
       "             '//cmcrzdt/lnsgfnbr/sdm/dhwm/ncvmgn/stm/hnbrd': 147988,\n",
       "             '//cmcrzdt/lnsgfnbr/sdm/dhwm/pdtjlb': 171382,\n",
       "             '//cmcrzdt/lnsgfnbr/sdm/dhwm/pwhjps': 1104890,\n",
       "             '//cmcrzdt/lnsgfnbr/sdm/dhwm/pwhjps/pdtjlb': 39001,\n",
       "             '//cmcrzdt/lnsgfnbr/sdm/dhwm/pwhjps/zmc': 258557,\n",
       "             '//cmcrzdt/lnsgfnbr/sdm/dhwm/pwhjps/zmc/cjqmc': 258557,\n",
       "             '//cmcrzdt/lnsgfnbr/sdm/dhwm/sqqbthdp': 154217,\n",
       "             '//cmcrzdt/lnsgfnbr/sdm/dhwm/trvznjhb': 105431,\n",
       "             '//cmcrzdt/lnsgfnbr/sdm/ngfllcq': 3756819,\n",
       "             '//cmcrzdt/lnsgfnbr/sdm/ngfllcq/pwhjps': 475802,\n",
       "             '//cmcrzdt/lnsgfnbr/sdm/ngfllcq/pwhjps/pzrtwv': 197890,\n",
       "             '//cmcrzdt/lnsgfnbr/sdm/ngfllcq/pwhjps/tzn': 121296,\n",
       "             '//cmcrzdt/lnsgfnbr/sdm/ngfllcq/szqf': 2453218,\n",
       "             '//cmcrzdt/lnsgfnbr/sdm/ngfllcq/szqf/ngfllcq': 2115019,\n",
       "             '//cmcrzdt/lnsgfnbr/sdm/ngfllcq/szqf/ngfllcq/vnfcczg': 2115019,\n",
       "             '//cmcrzdt/lnsgfnbr/sdm/ngfllcq/szqf/ngfllcq/vnfcczg/jbmvmzn': 1042758,\n",
       "             '//cmcrzdt/lnsgfnbr/sdm/ngfllcq/szqf/ngfllcq/vnfcczg/jbmvmzn/flrszsrr': 163007,\n",
       "             '//cmcrzdt/lnsgfnbr/sdm/ngfllcq/szqf/ngfllcq/vnfcczg/jbmvmzn/jrzf': 32641,\n",
       "             '//cmcrzdt/lnsgfnbr/sdm/ngfllcq/szqf/ngfllcq/vnfcczg/jbmvmzn/ngfllcq': 672063,\n",
       "             '//cmcrzdt/lnsgfnbr/sdm/ngfllcq/szqf/ngfllcq/vnfcczg/jbmvmzn/ngfllcq/dlcvcd': 260612,\n",
       "             '//cmcrzdt/lnsgfnbr/sdm/ngfllcq/szqf/ngfllcq/vnfcczg/jbmvmzn/ngfllcq/gcpftfm': 227489,\n",
       "             '//cmcrzdt/lnsgfnbr/sdm/ngfllcq/szqf/ngfllcq/vnfcczg/rpcbpjvm': 127767,\n",
       "             '//cmcrzdt/lnsgfnbr/sdm/ngfllcq/szqf/ngfllcq/vnfcczg/rpcbpjvm/tnwzgrvw': 127767,\n",
       "             '//cmcrzdt/lnsgfnbr/sdm/ngfllcq/szqf/ngfllcq/vnfcczg/rpcbpjvm/tnwzgrvw/trvznjhb': 127767,\n",
       "             '//cmcrzdt/lnsgfnbr/sdm/ngfllcq/szqf/qtrhn': 338199,\n",
       "             '//cmcrzdt/lnsgfnbr/sdm/zdzq': 1342369,\n",
       "             '//cmcrzdt/lnsgfnbr/sdm/zdzq/cplvj': 589360,\n",
       "             '//cmcrzdt/lnsgfnbr/sdm/zdzq/cplvj/gmqddf': 36587,\n",
       "             '//cmcrzdt/lnsgfnbr/sdm/zdzq/drpmlmf': 386672,\n",
       "             '//cmcrzdt/lnsgfnbr/sdm/zdzq/drpmlmf/ngfllcq': 248967,\n",
       "             '//cmcrzdt/lnsgfnbr/sdm/zdzq/qccnln': 81833,\n",
       "             '//cmcrzdt/lnsgfnbr/sdm/zdzq/qccnln/tzn': 81833,\n",
       "             '//cmcrzdt/lnsgfnbr/wlsg': 691930,\n",
       "             '//cmcrzdt/lnsgfnbr/wlsg/trvznjhb': 237856,\n",
       "             '//cmcrzdt/pdtjlb': 986976,\n",
       "             '//cmcrzdt/pdtjlb/jssl': 76335,\n",
       "             '//cmcrzdt/pdtjlb/ngfllcq': 157882,\n",
       "             '//cmcrzdt/pdtjlb/pvlqvdrw': 229892,\n",
       "             '//cmcrzdt/pdtjlb/pwhjps': 151562,\n",
       "             '//cmcrzdt/pdtjlb/pwhjps/ghfwwj': 109461,\n",
       "             '//cmcrzdt/pdtjlb/pwhjps/vtr': 42101,\n",
       "             '//cmcrzdt/pdtjlb/pwhjps/vtr/fmtpdc': 42101,\n",
       "             '//cmcrzdt/pdtjlb/tzn': 154813,\n",
       "             '//cmcrzdt/pdtjlb/tzn/pdtjlb': 154813,\n",
       "             '//cmcrzdt/rqfzvwts': 462813,\n",
       "             '//cmcrzdt/trvznjhb': 14888520,\n",
       "             '//cmcrzdt/trvznjhb/hnpdrdsm': 564551,\n",
       "             '//cmcrzdt/trvznjhb/mnnwcmd': 555985,\n",
       "             '//cmcrzdt/trvznjhb/ngfllcq': 932977,\n",
       "             '//cmcrzdt/trvznjhb/ngfllcq/fmhlq': 526713,\n",
       "             '//cmcrzdt/trvznjhb/ngfllcq/fmhlq/tjpwvb': 83436,\n",
       "             '//cmcrzdt/trvznjhb/ngfllcq/fmhlq/trvznjhb': 44433,\n",
       "             '//cmcrzdt/trvznjhb/ngfllcq/fwbdttbj': 4127,\n",
       "             '//cmcrzdt/trvznjhb/ngfllcq/hccstwh': 402137,\n",
       "             '//cmcrzdt/trvznjhb/ngfllcq/hccstwh/cbd': 158372,\n",
       "             '//cmcrzdt/trvznjhb/pbsnd': 434384,\n",
       "             '//cmcrzdt/trvznjhb/pdtjlb': 10242215,\n",
       "             '//cmcrzdt/trvznjhb/pdtjlb/mdbjwvh': 135602,\n",
       "             '//cmcrzdt/trvznjhb/pdtjlb/mgt': 837934,\n",
       "             '//cmcrzdt/trvznjhb/pdtjlb/mgt/pbrtf': 269436,\n",
       "             '//cmcrzdt/trvznjhb/pdtjlb/mgt/pbrtf/tnnnllg': 269436,\n",
       "             '//cmcrzdt/trvznjhb/pdtjlb/mgt/whflvwv': 568498,\n",
       "             '//cmcrzdt/trvznjhb/pdtjlb/mgt/whflvwv/rdl': 231952,\n",
       "             '//cmcrzdt/trvznjhb/pdtjlb/nbrvvghc': 164755,\n",
       "             '//cmcrzdt/trvznjhb/pdtjlb/nbrvvghc/pdtjlb': 164755,\n",
       "             '//cmcrzdt/trvznjhb/pdtjlb/nbrvvghc/pdtjlb/vwl': 124408,\n",
       "             '//cmcrzdt/trvznjhb/pdtjlb/ngfllcq': 54894,\n",
       "             '//cmcrzdt/trvznjhb/pdtjlb/tzn': 41506,\n",
       "             '//cmcrzdt/trvznjhb/pdtjlb/ztzsg': 8229652,\n",
       "             '//cmcrzdt/trvznjhb/pdtjlb/ztzsg/grrngq': 2253989,\n",
       "             '//cmcrzdt/trvznjhb/pdtjlb/ztzsg/grrngq/cqcvb': 1878215,\n",
       "             '//cmcrzdt/trvznjhb/pdtjlb/ztzsg/grrngq/cqcvb/trvznjhb': 1489054,\n",
       "             '//cmcrzdt/trvznjhb/pdtjlb/ztzsg/grrngq/cqcvb/trvznjhb/gtjfll': 775355,\n",
       "             '//cmcrzdt/trvznjhb/pdtjlb/ztzsg/grrngq/cqcvb/trvznjhb/gtjfll/gnpcbvmt': 346160,\n",
       "             '//cmcrzdt/trvznjhb/pdtjlb/ztzsg/grrngq/cqcvb/trvznjhb/mrncfvnp': 216569,\n",
       "             '//cmcrzdt/trvznjhb/pdtjlb/ztzsg/grrngq/cqcvb/trvznjhb/pwt': 119692,\n",
       "             '//cmcrzdt/trvznjhb/pdtjlb/ztzsg/grrngq/cqcvb/trvznjhb/trvznjhb': 203464,\n",
       "             '//cmcrzdt/trvznjhb/pdtjlb/ztzsg/grrngq/ngfllcq': 31226,\n",
       "             '//cmcrzdt/trvznjhb/pdtjlb/ztzsg/grrngq/shrhb': 344548,\n",
       "             '//cmcrzdt/trvznjhb/pdtjlb/ztzsg/hcmvbhp': 4643398,\n",
       "             '//cmcrzdt/trvznjhb/pdtjlb/ztzsg/hcmvbhp/cbb': 17897,\n",
       "             '//cmcrzdt/trvznjhb/pdtjlb/ztzsg/hcmvbhp/grmmpz': 214171,\n",
       "             '//cmcrzdt/trvznjhb/pdtjlb/ztzsg/hcmvbhp/jnr': 82130,\n",
       "             '//cmcrzdt/trvznjhb/pdtjlb/ztzsg/hcmvbhp/psv': 215898,\n",
       "             '//cmcrzdt/trvznjhb/pdtjlb/ztzsg/hcmvbhp/trvznjhb': 3328674,\n",
       "             '//cmcrzdt/trvznjhb/pdtjlb/ztzsg/hcmvbhp/trvznjhb/dfcn': 2478271,\n",
       "             '//cmcrzdt/trvznjhb/pdtjlb/ztzsg/hcmvbhp/trvznjhb/dfcn/fqm': 142027,\n",
       "             '//cmcrzdt/trvznjhb/pdtjlb/ztzsg/hcmvbhp/trvznjhb/dfcn/fqm/frgwsrdh': 142027,\n",
       "             '//cmcrzdt/trvznjhb/pdtjlb/ztzsg/hcmvbhp/trvznjhb/dfcn/trvznjhb': 965102,\n",
       "             '//cmcrzdt/trvznjhb/pdtjlb/ztzsg/hcmvbhp/trvznjhb/dfcn/trvznjhb/nbbb': 260947,\n",
       "             '//cmcrzdt/trvznjhb/pdtjlb/ztzsg/hcmvbhp/trvznjhb/dfcn/trvznjhb/qgqmmvg': 67028,\n",
       "             '//cmcrzdt/trvznjhb/pdtjlb/ztzsg/hcmvbhp/trvznjhb/dfcn/trvznjhb/tfgwmlc': 301537,\n",
       "             '//cmcrzdt/trvznjhb/pdtjlb/ztzsg/hcmvbhp/trvznjhb/dfcn/trvznjhb/tfgwmlc/rmcgqpb': 263786,\n",
       "             '//cmcrzdt/trvznjhb/pdtjlb/ztzsg/hcmvbhp/trvznjhb/dfcn/trvznjhb/tfgwmlc/wdtmdtz': 37751,\n",
       "             '//cmcrzdt/trvznjhb/pdtjlb/ztzsg/hcmvbhp/trvznjhb/dfcn/trvznjhb/tzn': 265035,\n",
       "             '//cmcrzdt/trvznjhb/pdtjlb/ztzsg/hcmvbhp/trvznjhb/dfcn/vfrrzdb': 1192028,\n",
       "             '//cmcrzdt/trvznjhb/pdtjlb/ztzsg/hcmvbhp/trvznjhb/dfcn/vfrrzdb/pzbtsnd': 72770,\n",
       "             '//cmcrzdt/trvznjhb/pdtjlb/ztzsg/hcmvbhp/trvznjhb/dfcn/vfrrzdb/srpdb': 1119258,\n",
       "             '//cmcrzdt/trvznjhb/pdtjlb/ztzsg/hcmvbhp/trvznjhb/dfcn/vfrrzdb/srpdb/ngfllcq': 341480,\n",
       "             '//cmcrzdt/trvznjhb/pdtjlb/ztzsg/hcmvbhp/trvznjhb/dfcn/vfrrzdb/srpdb/sjv': 546238,\n",
       "             '//cmcrzdt/trvznjhb/pdtjlb/ztzsg/hcmvbhp/trvznjhb/pwhjps': 171613,\n",
       "             '//cmcrzdt/trvznjhb/pdtjlb/ztzsg/hcmvbhp/trvznjhb/rnlrgd': 559731,\n",
       "             '//cmcrzdt/trvznjhb/pdtjlb/ztzsg/lbmnq': 142963,\n",
       "             '//cmcrzdt/trvznjhb/pdtjlb/ztzsg/pqqjgbvj': 835642,\n",
       "             '//cmcrzdt/trvznjhb/pdtjlb/ztzsg/pqqjgbvj/dfhhzwp': 122939,\n",
       "             '//cmcrzdt/trvznjhb/pdtjlb/ztzsg/pqqjgbvj/dfhhzwp/bqp': 122939,\n",
       "             '//cmcrzdt/trvznjhb/pdtjlb/ztzsg/pqqjgbvj/lchljrwb': 259475,\n",
       "             '//cmcrzdt/trvznjhb/pdtjlb/ztzsg/pqqjgbvj/pdtjlb': 199658,\n",
       "             '//cmcrzdt/trvznjhb/pdtjlb/ztzsg/zsnggz': 117242,\n",
       "             '//cmcrzdt/trvznjhb/trvznjhb': 1684781,\n",
       "             '//cmcrzdt/trvznjhb/trvznjhb/bgvqct': 242025,\n",
       "             '//cmcrzdt/trvznjhb/trvznjhb/fldlwj': 172275,\n",
       "             '//cmcrzdt/trvznjhb/trvznjhb/ndq': 819216,\n",
       "             '//cmcrzdt/trvznjhb/trvznjhb/ndq/dtzmzgw': 249561,\n",
       "             '//cmcrzdt/trvznjhb/trvznjhb/ndq/dtzmzgw/tzn': 249561,\n",
       "             '//cmcrzdt/trvznjhb/trvznjhb/ndq/jnthg': 17013,\n",
       "             '//hwdvrrp': 2878799,\n",
       "             '//hwdvrrp/fgvqft': 215710,\n",
       "             '//hwdvrrp/fwc': 1293607,\n",
       "             '//hwdvrrp/fwc/hgznwf': 51012,\n",
       "             '//hwdvrrp/fwc/lfjtqz': 906076,\n",
       "             '//hwdvrrp/fwc/lfjtqz/pwhjps': 392576,\n",
       "             '//hwdvrrp/fwc/ngfllcq': 97361,\n",
       "             '//hwdvrrp/fwc/pgpvcp': 834,\n",
       "             '//hwdvrrp/sfhsb': 78513,\n",
       "             '//hwdvrrp/tzn': 356797,\n",
       "             '//hwdvrrp/tzn/lpf': 356797,\n",
       "             '//hwdvrrp/tzn/lpf/wsvqtcb': 32176,\n",
       "             '//hwdvrrp/wbtf': 934172,\n",
       "             '//hwdvrrp/wbtf/pwhjps': 200296,\n",
       "             '//hwdvrrp/wbtf/vlqmz': 166538,\n",
       "             '//lsmv': 5232232,\n",
       "             '//lsmv/dtjjv': 218742,\n",
       "             '//lsmv/ngfllcq': 1922284,\n",
       "             '//lsmv/ngfllcq/wlmtj': 1354098,\n",
       "             '//lsmv/ngfllcq/wlmtj/qdjfgz': 614158,\n",
       "             '//lsmv/ngfllcq/wlmtj/qdjfgz/qpbsmmp': 60269,\n",
       "             '//lsmv/ngfllcq/wlmtj/shb': 140111,\n",
       "             '//lsmv/ngfllcq/wlmtj/trvznjhb': 203246,\n",
       "             '//lsmv/ngfllcq/wlmtj/trvznjhb/qjqzppj': 203246,\n",
       "             '//lsmv/pdtjlb': 764770,\n",
       "             '//lsmv/pdtjlb/mmnhtmr': 263209,\n",
       "             '//lsmv/pdtjlb/mmnhtmr/zqjjgvj': 263209,\n",
       "             '//lsmv/qlnlbcdv': 1614279,\n",
       "             '//lsmv/qlnlbcdv/jmd': 137766,\n",
       "             '//lsmv/qlnlbcdv/pzjgmm': 184634,\n",
       "             '//lsmv/qlnlbcdv/qqvrvcw': 179302,\n",
       "             '//lsmv/qlnlbcdv/trvznjhb': 514498,\n",
       "             '//lsmv/qlnlbcdv/trvznjhb/rbbmmcc': 249472,\n",
       "             '//lsmv/qlnlbcdv/trvznjhb/rbbmmcc/rtr': 249472,\n",
       "             '//lsmv/qlnlbcdv/trvznjhb/rbbmmcc/rtr/dtw': 249472,\n",
       "             '//lsmv/qlnlbcdv/tzn': 80112,\n",
       "             '//ngfllcq': 2629991,\n",
       "             '//ngfllcq/pwhjps': 19881,\n",
       "             '//ngfllcq/qcwvfl': 1035300,\n",
       "             '//ngfllcq/qcwvfl/gvvfsq': 80607,\n",
       "             '//ngfllcq/qcwvfl/vwfb': 349589,\n",
       "             '//ngfllcq/qcwvfl/vwfb/gtlfdvjz': 349589,\n",
       "             '//ngfllcq/qcwvfl/vwfb/gtlfdvjz/shf': 120966,\n",
       "             '//ngfllcq/tzn': 679857,\n",
       "             '//ngfllcq/tzn/ngfllcq': 207193,\n",
       "             '//ngfllcq/tzn/vmfgbzmw': 16152,\n",
       "             '//ngfllcq/zgwcwqr': 127789,\n",
       "             '//ngfllcq/zgwcwqr/pdtjlb': 17756,\n",
       "             '//ngnzzmpc': 274520,\n",
       "             '//pwhjps': 785639,\n",
       "             '//pwhjps/lcds': 134975,\n",
       "             '//pwhjps/tzn': 554343,\n",
       "             '//rgwnzttf': 122721,\n",
       "             '//trvznjhb': 106424,\n",
       "             '//wgcqrc': 896807,\n",
       "             '//wgcqrc/rjnnz': 258856})"
      ]
     },
     "execution_count": 23,
     "metadata": {},
     "output_type": "execute_result"
    }
   ],
   "source": [
    "folders"
   ]
  },
  {
   "cell_type": "markdown",
   "metadata": {},
   "source": [
    "part 1"
   ]
  },
  {
   "cell_type": "code",
   "execution_count": 24,
   "metadata": {},
   "outputs": [
    {
     "data": {
      "text/plain": [
       "1583951"
      ]
     },
     "execution_count": 24,
     "metadata": {},
     "output_type": "execute_result"
    }
   ],
   "source": [
    "sum([size for size in folders.values() if size < 100_000])"
   ]
  },
  {
   "cell_type": "code",
   "execution_count": 28,
   "metadata": {},
   "outputs": [
    {
     "name": "stdout",
     "output_type": "stream",
     "text": [
      "Current free space: 29_791_140\n",
      "Required space: 208_860\n"
     ]
    }
   ],
   "source": [
    "free_space = 70_000_000 - folders['/']\n",
    "print(f\"Current free space: {free_space:_}\")\n",
    "required = 30_000_000 - free_space\n",
    "print(f\"Required space: {required:_}\")"
   ]
  },
  {
   "cell_type": "markdown",
   "metadata": {},
   "source": [
    "part 2"
   ]
  },
  {
   "cell_type": "code",
   "execution_count": 36,
   "metadata": {},
   "outputs": [
    {
     "data": {
      "text/plain": [
       "214171"
      ]
     },
     "execution_count": 36,
     "metadata": {},
     "output_type": "execute_result"
    }
   ],
   "source": [
    "min([folders[d] for d in folders if folders[d] > required])"
   ]
  },
  {
   "cell_type": "code",
   "execution_count": null,
   "metadata": {},
   "outputs": [],
   "source": []
  }
 ],
 "metadata": {
  "kernelspec": {
   "display_name": "Python 3 (ipykernel)",
   "language": "python",
   "name": "python3"
  },
  "language_info": {
   "codemirror_mode": {
    "name": "ipython",
    "version": 3
   },
   "file_extension": ".py",
   "mimetype": "text/x-python",
   "name": "python",
   "nbconvert_exporter": "python",
   "pygments_lexer": "ipython3",
   "version": "3.8.2"
  }
 },
 "nbformat": 4,
 "nbformat_minor": 4
}
