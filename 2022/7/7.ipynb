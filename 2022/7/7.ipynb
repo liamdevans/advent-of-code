{
 "cells": [
  {
   "cell_type": "code",
   "execution_count": 14,
   "metadata": {},
   "outputs": [],
   "source": [
    "from collections import defaultdict"
   ]
  },
  {
   "cell_type": "code",
   "execution_count": 16,
   "metadata": {},
   "outputs": [],
   "source": [
    "path = []\n",
    "folders = defaultdict(int)\n",
    "\n",
    "with open('input.txt') as file:\n",
    "    for line in file:\n",
    "        if line[:7] == '$ cd ..':\n",
    "            path.pop()\n",
    "        elif line[:4] == '$ cd':\n",
    "            path.append(line.strip()[5:])\n",
    "        elif line[0].isdigit():\n",
    "            size, _ = line.split()\n",
    "            for i in range(len(path)):\n",
    "                folders['/'.join(path[:i + 1])] += int(size)"
   ]
  },
  {
   "cell_type": "markdown",
   "metadata": {},
   "source": [
    "part 1"
   ]
  },
  {
   "cell_type": "code",
   "execution_count": 24,
   "metadata": {},
   "outputs": [
    {
     "data": {
      "text/plain": [
       "1583951"
      ]
     },
     "execution_count": 24,
     "metadata": {},
     "output_type": "execute_result"
    }
   ],
   "source": [
    "sum([size for size in folders.values() if size < 100_000])"
   ]
  },
  {
   "cell_type": "code",
   "execution_count": 28,
   "metadata": {},
   "outputs": [
    {
     "name": "stdout",
     "output_type": "stream",
     "text": [
      "Current free space: 29_791_140\n",
      "Required space: 208_860\n"
     ]
    }
   ],
   "source": [
    "free_space = 70_000_000 - folders['/']\n",
    "print(f\"Current free space: {free_space:_}\")\n",
    "required = 30_000_000 - free_space\n",
    "print(f\"Required space: {required:_}\")"
   ]
  },
  {
   "cell_type": "markdown",
   "metadata": {},
   "source": [
    "part 2"
   ]
  },
  {
   "cell_type": "code",
   "execution_count": 36,
   "metadata": {},
   "outputs": [
    {
     "data": {
      "text/plain": [
       "214171"
      ]
     },
     "execution_count": 36,
     "metadata": {},
     "output_type": "execute_result"
    }
   ],
   "source": [
    "min([folders[d] for d in folders if folders[d] > required])"
   ]
  }
 ],
 "metadata": {
  "kernelspec": {
   "display_name": "Python 3 (ipykernel)",
   "language": "python",
   "name": "python3"
  },
  "language_info": {
   "codemirror_mode": {
    "name": "ipython",
    "version": 3
   },
   "file_extension": ".py",
   "mimetype": "text/x-python",
   "name": "python",
   "nbconvert_exporter": "python",
   "pygments_lexer": "ipython3",
   "version": "3.8.2"
  }
 },
 "nbformat": 4,
 "nbformat_minor": 4
}
