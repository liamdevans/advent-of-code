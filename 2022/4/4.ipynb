{
 "cells": [
  {
   "cell_type": "code",
   "execution_count": 11,
   "metadata": {},
   "outputs": [],
   "source": [
    "with open(\"input.txt\") as file:\n",
    "    lines = [line.strip().split(\",\") for line in file]"
   ]
  },
  {
   "cell_type": "code",
   "execution_count": 12,
   "metadata": {},
   "outputs": [
    {
     "data": {
      "text/plain": [
       "[['17-99', '18-24'],\n",
       " ['14-91', '22-91'],\n",
       " ['63-76', '66-83'],\n",
       " ['17-57', '17-28'],\n",
       " ['77-88', '14-78']]"
      ]
     },
     "execution_count": 12,
     "metadata": {},
     "output_type": "execute_result"
    }
   ],
   "source": [
    "lines[:5]"
   ]
  },
  {
   "cell_type": "code",
   "execution_count": 30,
   "metadata": {},
   "outputs": [],
   "source": [
    "def range_to_set(num_range: str):\n",
    "    num_range = num_range.split(\"-\")\n",
    "    start = int(num_range[0])\n",
    "    end = int(num_range[1])\n",
    "    return {i for i in range(start, end+1)}\n",
    "\n",
    "def pair_to_set(pair: list):\n",
    "    pair_set = []\n",
    "    for r in pair:\n",
    "        pair_set.append(range_to_set(r))\n",
    "    return pair_set\n",
    "\n",
    "def is_subset(pair: list):\n",
    "    return pair[0].issubset(pair[1]) or pair[1].issubset(pair[0])"
   ]
  },
  {
   "cell_type": "code",
   "execution_count": 32,
   "metadata": {},
   "outputs": [
    {
     "data": {
      "text/plain": [
       "550"
      ]
     },
     "execution_count": 32,
     "metadata": {},
     "output_type": "execute_result"
    }
   ],
   "source": [
    "sum([is_subset(pair_to_set(pair)) for pair in lines])"
   ]
  },
  {
   "cell_type": "code",
   "execution_count": 33,
   "metadata": {},
   "outputs": [],
   "source": [
    "def is_overlap(pair: list):\n",
    "    return bool(pair[0].intersection(pair[1]))"
   ]
  },
  {
   "cell_type": "code",
   "execution_count": 34,
   "metadata": {},
   "outputs": [
    {
     "data": {
      "text/plain": [
       "931"
      ]
     },
     "execution_count": 34,
     "metadata": {},
     "output_type": "execute_result"
    }
   ],
   "source": [
    "sum([is_overlap(pair_to_set(pair)) for pair in lines])"
   ]
  }
 ],
 "metadata": {
  "kernelspec": {
   "display_name": "Python 3 (ipykernel)",
   "language": "python",
   "name": "python3"
  },
  "language_info": {
   "codemirror_mode": {
    "name": "ipython",
    "version": 3
   },
   "file_extension": ".py",
   "mimetype": "text/x-python",
   "name": "python",
   "nbconvert_exporter": "python",
   "pygments_lexer": "ipython3",
   "version": "3.8.2"
  }
 },
 "nbformat": 4,
 "nbformat_minor": 4
}
