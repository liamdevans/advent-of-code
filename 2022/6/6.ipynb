{
 "cells": [
  {
   "cell_type": "code",
   "execution_count": 49,
   "metadata": {},
   "outputs": [],
   "source": [
    "class Detector():\n",
    "    \n",
    "    def __init__(self, detector):\n",
    "        self.detector = detector\n",
    "        \n",
    "        if self.detector == 'SOP':\n",
    "            self.num_chars = 4\n",
    "        elif self.detector == 'SOM':\n",
    "            self.num_chars = 14\n",
    "        \n",
    "    with open(\"input.txt\") as file:\n",
    "        input_str = file.read().strip()\n",
    "        \n",
    "        \n",
    "    def get_next_chars(self, pos: int) -> str:\n",
    "        return self.input_str[pos:pos + self.num_chars]\n",
    "    \n",
    "    def is_unique(self, chars: str) -> bool:\n",
    "        return len(chars) == len(set(chars))\n",
    "    \n",
    "    def iterate_over(self):\n",
    "        for idx, char in enumerate(self.input_str):\n",
    "            if self.is_unique(self.get_next_chars(idx)):\n",
    "                return idx + self.num_chars\n",
    "        return None"
   ]
  },
  {
   "cell_type": "code",
   "execution_count": 50,
   "metadata": {},
   "outputs": [],
   "source": [
    "sop = Detector(\"SOP\")\n",
    "som = Detector(\"SOM\")"
   ]
  },
  {
   "cell_type": "markdown",
   "metadata": {},
   "source": [
    "part 1"
   ]
  },
  {
   "cell_type": "code",
   "execution_count": 51,
   "metadata": {},
   "outputs": [
    {
     "data": {
      "text/plain": [
       "1760"
      ]
     },
     "execution_count": 51,
     "metadata": {},
     "output_type": "execute_result"
    }
   ],
   "source": [
    "sop.iterate_over()"
   ]
  },
  {
   "cell_type": "markdown",
   "metadata": {},
   "source": [
    "part 2"
   ]
  },
  {
   "cell_type": "code",
   "execution_count": 52,
   "metadata": {},
   "outputs": [
    {
     "data": {
      "text/plain": [
       "2974"
      ]
     },
     "execution_count": 52,
     "metadata": {},
     "output_type": "execute_result"
    }
   ],
   "source": [
    "som.iterate_over()"
   ]
  }
 ],
 "metadata": {
  "kernelspec": {
   "display_name": "Python 3 (ipykernel)",
   "language": "python",
   "name": "python3"
  },
  "language_info": {
   "codemirror_mode": {
    "name": "ipython",
    "version": 3
   },
   "file_extension": ".py",
   "mimetype": "text/x-python",
   "name": "python",
   "nbconvert_exporter": "python",
   "pygments_lexer": "ipython3",
   "version": "3.8.2"
  }
 },
 "nbformat": 4,
 "nbformat_minor": 4
}
