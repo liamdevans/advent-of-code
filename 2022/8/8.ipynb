{
 "cells": [
  {
   "cell_type": "code",
   "execution_count": 22,
   "metadata": {},
   "outputs": [],
   "source": [
    "from itertools import product"
   ]
  },
  {
   "cell_type": "code",
   "execution_count": 60,
   "metadata": {},
   "outputs": [],
   "source": [
    "with open(\"input.txt\") as file:\n",
    "    rows = [[int(i) for i in list(line.strip())] for line in file.readlines()]\n",
    "columns = list(map(list, zip(*rows)))"
   ]
  },
  {
   "cell_type": "code",
   "execution_count": 87,
   "metadata": {},
   "outputs": [],
   "source": [
    "x = list(range(1, len(rows) - 1))\n",
    "coords = list(product(x, repeat=2))"
   ]
  },
  {
   "cell_type": "code",
   "execution_count": 69,
   "metadata": {},
   "outputs": [],
   "source": [
    "def visible_horizontal(coord: tuple) -> bool:\n",
    "    \"\"\"Given a coordinate of tree to check, looks left and right to see \n",
    "    if theres a visible route.\n",
    "    \"\"\"\n",
    "    value = rows[coord[0]][coord[1]]\n",
    "    left = rows[coord[0]][:coord[1]]\n",
    "    right = rows[coord[0]][coord[1] + 1:]\n",
    "    if value > max(left):\n",
    "        return True\n",
    "    if value > max(right):\n",
    "        return True\n",
    "    return False\n",
    "\n",
    "def visible_vertical(coord: tuple) -> bool:\n",
    "    \"\"\"Given a coordinate of tree to check, looks up and down to see \n",
    "    if theres a visible route.\n",
    "    \"\"\"\n",
    "    value = columns[coord[1]][coord[0]]\n",
    "    up = columns[coord[1]][:coord[0]]\n",
    "    down = columns[coord[1]][coord[0] + 1:]\n",
    "    if value > max(up):\n",
    "        return True\n",
    "    if value > max(down):\n",
    "        return True\n",
    "    return False\n",
    "\n",
    "def visible_any(coord: tuple) -> bool:\n",
    "    return visible_horizontal(coord) or visible_vertical(coord)\n",
    "\n",
    "def get_edge_trees(rows):\n",
    "    r = len(rows)\n",
    "    c = len(rows[0])\n",
    "    return (2 * c) + (2 * (r - 2))\n",
    "    "
   ]
  },
  {
   "cell_type": "markdown",
   "metadata": {},
   "source": [
    "# part 1"
   ]
  },
  {
   "cell_type": "code",
   "execution_count": 70,
   "metadata": {},
   "outputs": [
    {
     "data": {
      "text/plain": [
       "1854"
      ]
     },
     "execution_count": 70,
     "metadata": {},
     "output_type": "execute_result"
    }
   ],
   "source": [
    "get_edge_trees(rows) + sum([visible_any(coord) for coord in coords])"
   ]
  },
  {
   "cell_type": "markdown",
   "metadata": {},
   "source": [
    "# part 2"
   ]
  },
  {
   "cell_type": "code",
   "execution_count": 72,
   "metadata": {},
   "outputs": [],
   "source": [
    "from itertools import takewhile"
   ]
  },
  {
   "cell_type": "code",
   "execution_count": 84,
   "metadata": {},
   "outputs": [],
   "source": [
    "def count_smaller_trees(val: int, tree_list: list) -> int:\n",
    "    n_smaller_trees = len(list(takewhile(lambda x: x < val, tree_list)))\n",
    "    return n_smaller_trees if len(tree_list) == n_smaller_trees else n_smaller_trees + 1\n",
    "\n",
    "def n_trees_horizontal(coord: tuple) -> bool:\n",
    "    \"\"\"Given a coordinate of tree to check, looks left and right to count\n",
    "    the number of trees until one the same size or bigger.\n",
    "    \"\"\"\n",
    "    value = rows[coord[0]][coord[1]]\n",
    "    left = rows[coord[0]][:coord[1]]\n",
    "    right = rows[coord[0]][coord[1] + 1:]\n",
    "    \n",
    "    n_trees_left = count_smaller_trees(value, left[::-1])\n",
    "    n_trees_right = count_smaller_trees(value, right)\n",
    "    return n_trees_left, n_trees_right\n",
    "    \n",
    "\n",
    "def n_trees_vertical(coord: tuple) -> bool:\n",
    "    \"\"\"Given a coordinate of tree to check, looks up and down to count\n",
    "    the number of trees until one the same size or bigger.\n",
    "    \"\"\"\n",
    "    value = columns[coord[1]][coord[0]]\n",
    "    up = columns[coord[1]][:coord[0]]\n",
    "    down = columns[coord[1]][coord[0] + 1:]\n",
    "    \n",
    "    n_trees_up = count_smaller_trees(value, up[::-1])\n",
    "    n_trees_down = count_smaller_trees(value, down)\n",
    "    return n_trees_up, n_trees_down\n",
    "\n",
    "def calc_scenic_score(coord: tuple) -> int:\n",
    "    l, r = n_trees_horizontal(coord)\n",
    "    u, d = n_trees_vertical(coord)\n",
    "    return l * r * u * d"
   ]
  },
  {
   "cell_type": "code",
   "execution_count": 86,
   "metadata": {},
   "outputs": [
    {
     "data": {
      "text/plain": [
       "527340"
      ]
     },
     "execution_count": 86,
     "metadata": {},
     "output_type": "execute_result"
    }
   ],
   "source": [
    "max([calc_scenic_score(coord) for coord in coords])"
   ]
  }
 ],
 "metadata": {
  "kernelspec": {
   "display_name": "Python 3 (ipykernel)",
   "language": "python",
   "name": "python3"
  },
  "language_info": {
   "codemirror_mode": {
    "name": "ipython",
    "version": 3
   },
   "file_extension": ".py",
   "mimetype": "text/x-python",
   "name": "python",
   "nbconvert_exporter": "python",
   "pygments_lexer": "ipython3",
   "version": "3.8.2"
  }
 },
 "nbformat": 4,
 "nbformat_minor": 4
}
